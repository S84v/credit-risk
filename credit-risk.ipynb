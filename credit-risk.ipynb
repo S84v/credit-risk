{
 "cells": [
  {
   "cell_type": "markdown",
   "metadata": {},
   "source": [
    "# 📊 Credit Risk Analysis\n",
    "\n",
    "This project aims to predict credit risk by determining which customers are likely to pay their loans on time and which are not. We'll employ various data science techniques and methodologies.\n",
    "\n",
    "## 🎯 Objectives\n",
    "\n",
    "We will cover the following concepts:\n",
    "\n",
    "1. **🔍 Exploratory Data Analysis (EDA)**:\n",
    "   - Analyze the dataset to uncover patterns, spot anomalies, and check assumptions using statistical summaries and visualizations.\n",
    "\n",
    "2. **🛠️ Data Preprocessing**:\n",
    "   - Clean the data, handle missing values, encode categorical variables, normalize data, and split into training and testing sets.\n",
    "\n",
    "3. **⭐ Feature Importance**:\n",
    "   - Identify key features influencing `loan_status` to improve model performance and interpretability.\n",
    "\n",
    "4. **🔽 Dimensionality Reduction**:\n",
    "   - Use techniques like PCA to reduce the number of features while retaining essential information, speeding up model training, and reducing overfitting.\n",
    "\n",
    "5. **🤖 Predictive Modeling**:\n",
    "   - Build various models (logistic regression, decision trees, random forests, gradient boosting) to predict `loan_status`.\n",
    "\n",
    "6. **⚙️ Hyperparameter Optimization**:\n",
    "   - Perform hyperparameter tuning (Grid Search, Random Search) to find the best parameters for our models.\n",
    "\n",
    "7. **🧪 Model Testing**:\n",
    "   - Evaluate models using metrics like accuracy, precision, recall, F1 score, and AUC-ROC to test performance on unseen data.\n",
    "\n",
    "## 🎯 Goal\n",
    "\n",
    "Predict the `loan_status` to determine the likelihood of customers paying their loans on time. This helps financial institutions make informed loan approval decisions and manage risk effectively.\n"
   ]
  },
  {
   "cell_type": "markdown",
   "metadata": {},
   "source": [
    "# 📖 Data Dictionary\n",
    "\n",
    "| Column Name            | Description                                                                                           |\n",
    "|------------------------|-------------------------------------------------------------------------------------------------------|\n",
    "| out_prncp_inv          | Remaining outstanding principal for portion of total amount funded by investors                       |\n",
    "| policy_code            | Publicly available policy_code=1. <br> New products not publicly available policy_code=2                   |\n",
    "| pub_rec                | Number of derogatory public records                                                                   |\n",
    "| purpose                | A category provided by the borrower for the loan request.                                             |\n",
    "| pymnt_plan             | Indicates if a payment plan has been put in place for the loan                                        |\n",
    "| recoveries             | Post charge off gross recovery                                                                        |\n",
    "| revol_bal              | Total credit revolving balance                                                                        |\n",
    "| revol_util             | Revolving line utilization rate, or the amount of credit the borrower is using relative to all available revolving credit. |\n",
    "| sub_grade              | LC assigned loan subgrade                                                                             |\n",
    "| term                   | The number of payments on the loan. Values are in months and can be either 36 or 60.                  |\n",
    "| title                  | The loan title provided by the borrower                                                               |\n",
    "| total_acc              | The total number of credit lines currently in the borrower's credit file                              |\n",
    "| total_pymnt            | Payments received to date for total amount funded                                                     |\n",
    "| total_pymnt_inv        | Payments received to date for portion of total amount funded by investors                             |\n",
    "| total_rec_int          | Interest received to date                                                                             |\n",
    "| total_rec_late_fee     | Late fees received to date                                                                            |\n",
    "| total_rec_prncp        | Principal received to date                                                                            |\n",
    "| url                    | URL for the LC page with listing data.                                                                |\n",
    "| verified_status_joint  | Indicates if the co-borrowers' joint income was verified by LC, not verified, or if the income source was verified |\n",
    "| zip_code               | The first 3 numbers of the zip code provided by the borrower in the loan application.                 |\n",
    "| open_acc_6m            | Number of open trades in last 6 months                                                                |\n",
    "| open_il_6m             | Number of currently active installment trades                                                         |\n",
    "| open_il_12m            | Number of installment accounts opened in past 12 months                                               |\n",
    "| open_il_24m            | Number of installment accounts opened in past 24 months                                               |\n",
    "| mths_since_rcnt_il     | Months since most recent installment accounts opened                                                  |\n",
    "| total_bal_il           | Total current balance of all installment accounts                                                     |\n",
    "| il_util                | Ratio of total current balance to high credit/credit limit on all install acct                        |\n",
    "| open_rv_12m            | Number of revolving trades opened in past 12 months                                                   |\n",
    "| open_rv_24m            | Number of revolving trades opened in past 24 months                                                   |\n",
    "| max_bal_bc             | Maximum current balance owed on all revolving accounts                                                |\n",
    "| all_util               | Balance to credit limit on all trades                                                                 |\n",
    "| total_rev_hi_lim       | Total revolving high credit/credit limit                                                              |\n",
    "| inq_fi                 | Number of personal finance inquiries                                                                  |\n",
    "| total_cu_tl            | Number of finance trades                                                                              |\n",
    "| inq_last_12m           | Number of credit inquiries in past 12 months                                                          |\n",
    "| acc_now_delinq         | The number of accounts on which the borrower is now delinquent.                                       |\n",
    "| tot_coll_amt           | Total collection amounts ever owed                                                                    |\n",
    "| tot_cur_bal            | Total current balance of all accounts                                                                 |\n",
    "\n",
    "#### * Employer Title replaces Employer Name for all loans listed after 9/23/2013\n",
    "\n"
   ]
  },
  {
   "cell_type": "markdown",
   "metadata": {},
   "source": [
    "## Some important features\n",
    "\n",
    "| Column      | Description                                  |\n",
    "|-------------|----------------------------------------------|\n",
    "| loan_amnt   | Amount of money requested by the borrower.   |\n",
    "| int_rate    | Interest rate of the loan.                   |\n",
    "| grade       | Loan grade with categories A, B, C, D, E, F, G. |\n",
    "| annual_inc  | Borrower's annual income.                    |\n",
    "| purpose     | The primary purpose of borrowing.            |\n",
    "| installments| Monthly amount payments for opted loan.      |\n",
    "| term        | Duration of the loan until it’s paid off.    |\n"
   ]
  },
  {
   "cell_type": "markdown",
   "metadata": {},
   "source": [
    "# 🚀 Importing libraries and getting started"
   ]
  },
  {
   "cell_type": "code",
   "execution_count": 23,
   "metadata": {},
   "outputs": [],
   "source": [
    "import pandas as pd\n",
    "import numpy as np\n",
    "\n",
    "import plotly.express as px\n",
    "from sklearn import metrics"
   ]
  },
  {
   "cell_type": "code",
   "execution_count": 3,
   "metadata": {},
   "outputs": [],
   "source": [
    "data = pd.read_csv('C:/Users/saran/OneDrive/Documents/GitHub/credit-risk/data/loan.csv', low_memory=False)"
   ]
  },
  {
   "cell_type": "code",
   "execution_count": 25,
   "metadata": {},
   "outputs": [
    {
     "name": "stdout",
     "output_type": "stream",
     "text": [
      "(887379, 74)\n",
      "65666046\n"
     ]
    }
   ],
   "source": [
    "print(data.shape)\n",
    "print(data.shape[0] * data.shape[1])"
   ]
  },
  {
   "cell_type": "markdown",
   "metadata": {},
   "source": [
    "### We have about 800K rows and 74 columns, which total to about 65 million data points."
   ]
  },
  {
   "cell_type": "code",
   "execution_count": 22,
   "metadata": {},
   "outputs": [
    {
     "data": {
      "text/plain": [
       "array(['Fully Paid', 'Charged Off', 'Current', 'Default',\n",
       "       'Late (31-120 days)', 'In Grace Period', 'Late (16-30 days)',\n",
       "       'Does not meet the credit policy. Status:Fully Paid',\n",
       "       'Does not meet the credit policy. Status:Charged Off', 'Issued'],\n",
       "      dtype=object)"
      ]
     },
     "execution_count": 22,
     "metadata": {},
     "output_type": "execute_result"
    }
   ],
   "source": [
    "data['loan_status'].unique() # Understanding the target variable"
   ]
  },
  {
   "cell_type": "markdown",
   "metadata": {},
   "source": [
    "### Here is what the terms in the target variable mean\n",
    "| Term                                               | Meaning                                                                                                                                                 |\n",
    "|----------------------------------------------------|---------------------------------------------------------------------------------------------------------------------------------------------------------|\n",
    "| **Fully Paid**                                     | The borrower has completely repaid the loan.                                                                                                             |\n",
    "| **Charged Off**                                    | The lender has given up on collecting the loan because the borrower hasn’t paid for a long time. The loan is considered a loss.                          |\n",
    "| **Current**                                        | The borrower is making payments on time.                                                                                                                 |\n",
    "| **Default**                                        | The borrower has stopped making payments for a long period, and the loan is in serious trouble.                                                          |\n",
    "| **Late (31-120 days)**                             | The borrower has missed payments and is behind by 31 to 120 days.                                                                                        |\n",
    "| **In Grace Period**                                | The borrower missed a payment, but the late fee hasn’t been applied yet because it’s within an allowed period after the due date.                        |\n",
    "| **Late (16-30 days)**                              | The borrower is behind on payments by 16 to 30 days.                                                                                                     |\n",
    "| **Does not meet the credit policy. Status: Fully Paid** | The loan didn’t meet the lender's usual criteria but was still given and has been completely repaid.                                                      |\n",
    "| **Does not meet the credit policy. Status: Charged Off** | The loan didn’t meet the lender's usual criteria, was still given, but ended up in loss as the borrower didn’t repay.                                      |\n",
    "| **Issued**                                         | The loan has been approved and the money has been given to the borrower.                                                                                 |\n"
   ]
  }
 ],
 "metadata": {
  "kernelspec": {
   "display_name": "Python 3",
   "language": "python",
   "name": "python3"
  },
  "language_info": {
   "codemirror_mode": {
    "name": "ipython",
    "version": 3
   },
   "file_extension": ".py",
   "mimetype": "text/x-python",
   "name": "python",
   "nbconvert_exporter": "python",
   "pygments_lexer": "ipython3",
   "version": "3.12.3"
  }
 },
 "nbformat": 4,
 "nbformat_minor": 2
}
