version https://git-lfs.github.com/spec/v1
oid sha256:87679d51b2621a9bca931c38a00c1e08780a0473424ce827b5a9c00aea9ad4d2
size 4288955
