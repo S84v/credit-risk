{
 "cells": [
  {
   "cell_type": "markdown",
   "metadata": {},
   "source": [
    "| Column Name            | Description                                                                                           |\n",
    "|------------------------|-------------------------------------------------------------------------------------------------------|\n",
    "| out_prncp_inv          | Remaining outstanding principal for portion of total amount funded by investors                       |\n",
    "| policy_code            | Publicly available policy_code=1. <br> New products not publicly available policy_code=2                   |\n",
    "| pub_rec                | Number of derogatory public records                                                                   |\n",
    "| purpose                | A category provided by the borrower for the loan request.                                             |\n",
    "| pymnt_plan             | Indicates if a payment plan has been put in place for the loan                                        |\n",
    "| recoveries             | Post charge off gross recovery                                                                        |\n",
    "| revol_bal              | Total credit revolving balance                                                                        |\n",
    "| revol_util             | Revolving line utilization rate, or the amount of credit the borrower is using relative to all available revolving credit. |\n",
    "| sub_grade              | LC assigned loan subgrade                                                                             |\n",
    "| term                   | The number of payments on the loan. Values are in months and can be either 36 or 60.                  |\n",
    "| title                  | The loan title provided by the borrower                                                               |\n",
    "| total_acc              | The total number of credit lines currently in the borrower's credit file                              |\n",
    "| total_pymnt            | Payments received to date for total amount funded                                                     |\n",
    "| total_pymnt_inv        | Payments received to date for portion of total amount funded by investors                             |\n",
    "| total_rec_int          | Interest received to date                                                                             |\n",
    "| total_rec_late_fee     | Late fees received to date                                                                            |\n",
    "| total_rec_prncp        | Principal received to date                                                                            |\n",
    "| url                    | URL for the LC page with listing data.                                                                |\n",
    "| verified_status_joint  | Indicates if the co-borrowers' joint income was verified by LC, not verified, or if the income source was verified |\n",
    "| zip_code               | The first 3 numbers of the zip code provided by the borrower in the loan application.                 |\n",
    "| open_acc_6m            | Number of open trades in last 6 months                                                                |\n",
    "| open_il_6m             | Number of currently active installment trades                                                         |\n",
    "| open_il_12m            | Number of installment accounts opened in past 12 months                                               |\n",
    "| open_il_24m            | Number of installment accounts opened in past 24 months                                               |\n",
    "| mths_since_rcnt_il     | Months since most recent installment accounts opened                                                  |\n",
    "| total_bal_il           | Total current balance of all installment accounts                                                     |\n",
    "| il_util                | Ratio of total current balance to high credit/credit limit on all install acct                        |\n",
    "| open_rv_12m            | Number of revolving trades opened in past 12 months                                                   |\n",
    "| open_rv_24m            | Number of revolving trades opened in past 24 months                                                   |\n",
    "| max_bal_bc             | Maximum current balance owed on all revolving accounts                                                |\n",
    "| all_util               | Balance to credit limit on all trades                                                                 |\n",
    "| total_rev_hi_lim       | Total revolving high credit/credit limit                                                              |\n",
    "| inq_fi                 | Number of personal finance inquiries                                                                  |\n",
    "| total_cu_tl            | Number of finance trades                                                                              |\n",
    "| inq_last_12m           | Number of credit inquiries in past 12 months                                                          |\n",
    "| acc_now_delinq         | The number of accounts on which the borrower is now delinquent.                                       |\n",
    "| tot_coll_amt           | Total collection amounts ever owed                                                                    |\n",
    "| tot_cur_bal            | Total current balance of all accounts                                                                 |\n",
    "\n",
    "#### * Employer Title replaces Employer Name for all loans listed after 9/23/2013\n",
    "\n"
   ]
  },
  {
   "cell_type": "markdown",
   "metadata": {},
   "source": [
    "- loan_amnt - Amount of money requested by the borrower.\n",
    "- int_rate - Interest rate of the loan.\n",
    "- grade - Loan grade with categories A, B, C, D, E, F, G.\n",
    "- annual_inc - Borrowers annual income.\n",
    "- purpose - The primary purpose of borrowing.\n",
    "- installments – Monthly amount payments for opted loan.\n",
    "- term – duration of the loan until it’s paid off"
   ]
  },
  {
   "cell_type": "code",
   "execution_count": 1,
   "metadata": {},
   "outputs": [],
   "source": [
    "import pandas as pd"
   ]
  },
  {
   "cell_type": "code",
   "execution_count": 8,
   "metadata": {},
   "outputs": [],
   "source": [
    "data = pd.read_csv('C:/Users/saran/OneDrive/Documents/GitHub/credit-risk/data/loan.csv', low_memory=False)"
   ]
  },
  {
   "cell_type": "code",
   "execution_count": 9,
   "metadata": {},
   "outputs": [
    {
     "data": {
      "text/plain": [
       "Index(['id', 'member_id', 'loan_amnt', 'funded_amnt', 'funded_amnt_inv',\n",
       "       'term', 'int_rate', 'installment', 'grade', 'sub_grade', 'emp_title',\n",
       "       'emp_length', 'home_ownership', 'annual_inc', 'verification_status',\n",
       "       'issue_d', 'loan_status', 'pymnt_plan', 'url', 'desc', 'purpose',\n",
       "       'title', 'zip_code', 'addr_state', 'dti', 'delinq_2yrs',\n",
       "       'earliest_cr_line', 'inq_last_6mths', 'mths_since_last_delinq',\n",
       "       'mths_since_last_record', 'open_acc', 'pub_rec', 'revol_bal',\n",
       "       'revol_util', 'total_acc', 'initial_list_status', 'out_prncp',\n",
       "       'out_prncp_inv', 'total_pymnt', 'total_pymnt_inv', 'total_rec_prncp',\n",
       "       'total_rec_int', 'total_rec_late_fee', 'recoveries',\n",
       "       'collection_recovery_fee', 'last_pymnt_d', 'last_pymnt_amnt',\n",
       "       'next_pymnt_d', 'last_credit_pull_d', 'collections_12_mths_ex_med',\n",
       "       'mths_since_last_major_derog', 'policy_code', 'application_type',\n",
       "       'annual_inc_joint', 'dti_joint', 'verification_status_joint',\n",
       "       'acc_now_delinq', 'tot_coll_amt', 'tot_cur_bal', 'open_acc_6m',\n",
       "       'open_il_6m', 'open_il_12m', 'open_il_24m', 'mths_since_rcnt_il',\n",
       "       'total_bal_il', 'il_util', 'open_rv_12m', 'open_rv_24m', 'max_bal_bc',\n",
       "       'all_util', 'total_rev_hi_lim', 'inq_fi', 'total_cu_tl',\n",
       "       'inq_last_12m'],\n",
       "      dtype='object')"
      ]
     },
     "execution_count": 9,
     "metadata": {},
     "output_type": "execute_result"
    }
   ],
   "source": [
    "data.columns"
   ]
  }
 ],
 "metadata": {
  "kernelspec": {
   "display_name": "Python 3",
   "language": "python",
   "name": "python3"
  },
  "language_info": {
   "codemirror_mode": {
    "name": "ipython",
    "version": 3
   },
   "file_extension": ".py",
   "mimetype": "text/x-python",
   "name": "python",
   "nbconvert_exporter": "python",
   "pygments_lexer": "ipython3",
   "version": "3.12.3"
  }
 },
 "nbformat": 4,
 "nbformat_minor": 2
}
